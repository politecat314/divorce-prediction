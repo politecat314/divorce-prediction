{
 "cells": [
  {
   "cell_type": "markdown",
   "metadata": {
    "id": "1CMijsYj06kw"
   },
   "source": [
    "# **Import Libraries**"
   ]
  },
  {
   "cell_type": "code",
   "execution_count": 288,
   "metadata": {
    "id": "1RVAzZnudHFg"
   },
   "outputs": [],
   "source": [
    "import numpy as np # use numpy library to manipulate array easily\n",
    "import pandas as pd # use pandas library to access csv file\n",
    "import matplotlib.pyplot as plt  #use matplotlib library to easily make graph   \n",
    "from matplotlib.legend_handler import HandlerBase  # use texthandler for legend plotting\n",
    "from matplotlib.text import Text \n",
    "import seaborn as sns      # in order to use seaborn function count plot\n",
    "from sklearn.model_selection import train_test_split # for train test split\n",
    "import tensorflow as tf # for creating the NN model\n",
    "\n",
    "sns.set_style('darkgrid')  #set the seaborn plot style to 'darkgrid'"
   ]
  },
  {
   "cell_type": "markdown",
   "metadata": {
    "id": "Js-czpsA1CY0"
   },
   "source": [
    "## **Import the data**"
   ]
  },
  {
   "cell_type": "code",
   "execution_count": 289,
   "metadata": {
    "colab": {
     "base_uri": "https://localhost:8080/",
     "height": 398
    },
    "id": "p94Ocf7IdHF4",
    "outputId": "ef6b115f-eb23-4ed4-f995-9c909a6eaf60"
   },
   "outputs": [
    {
     "data": {
      "text/html": [
       "<div>\n",
       "<style scoped>\n",
       "    .dataframe tbody tr th:only-of-type {\n",
       "        vertical-align: middle;\n",
       "    }\n",
       "\n",
       "    .dataframe tbody tr th {\n",
       "        vertical-align: top;\n",
       "    }\n",
       "\n",
       "    .dataframe thead th {\n",
       "        text-align: right;\n",
       "    }\n",
       "</style>\n",
       "<table border=\"1\" class=\"dataframe\">\n",
       "  <thead>\n",
       "    <tr style=\"text-align: right;\">\n",
       "      <th></th>\n",
       "      <th>Q1</th>\n",
       "      <th>Q2</th>\n",
       "      <th>Q3</th>\n",
       "      <th>Q4</th>\n",
       "      <th>Q5</th>\n",
       "      <th>Q6</th>\n",
       "      <th>Q7</th>\n",
       "      <th>Q8</th>\n",
       "      <th>Q9</th>\n",
       "      <th>Q10</th>\n",
       "      <th>...</th>\n",
       "      <th>Q46</th>\n",
       "      <th>Q47</th>\n",
       "      <th>Q48</th>\n",
       "      <th>Q49</th>\n",
       "      <th>Q50</th>\n",
       "      <th>Q51</th>\n",
       "      <th>Q52</th>\n",
       "      <th>Q53</th>\n",
       "      <th>Q54</th>\n",
       "      <th>Divorce</th>\n",
       "    </tr>\n",
       "  </thead>\n",
       "  <tbody>\n",
       "    <tr>\n",
       "      <th>0</th>\n",
       "      <td>2</td>\n",
       "      <td>2</td>\n",
       "      <td>4</td>\n",
       "      <td>1</td>\n",
       "      <td>0</td>\n",
       "      <td>0</td>\n",
       "      <td>0</td>\n",
       "      <td>0</td>\n",
       "      <td>0</td>\n",
       "      <td>0</td>\n",
       "      <td>...</td>\n",
       "      <td>2</td>\n",
       "      <td>1</td>\n",
       "      <td>3</td>\n",
       "      <td>3</td>\n",
       "      <td>3</td>\n",
       "      <td>2</td>\n",
       "      <td>3</td>\n",
       "      <td>2</td>\n",
       "      <td>1</td>\n",
       "      <td>1</td>\n",
       "    </tr>\n",
       "    <tr>\n",
       "      <th>1</th>\n",
       "      <td>4</td>\n",
       "      <td>4</td>\n",
       "      <td>4</td>\n",
       "      <td>4</td>\n",
       "      <td>4</td>\n",
       "      <td>0</td>\n",
       "      <td>0</td>\n",
       "      <td>4</td>\n",
       "      <td>4</td>\n",
       "      <td>4</td>\n",
       "      <td>...</td>\n",
       "      <td>2</td>\n",
       "      <td>2</td>\n",
       "      <td>3</td>\n",
       "      <td>4</td>\n",
       "      <td>4</td>\n",
       "      <td>4</td>\n",
       "      <td>4</td>\n",
       "      <td>2</td>\n",
       "      <td>2</td>\n",
       "      <td>1</td>\n",
       "    </tr>\n",
       "    <tr>\n",
       "      <th>2</th>\n",
       "      <td>2</td>\n",
       "      <td>2</td>\n",
       "      <td>2</td>\n",
       "      <td>2</td>\n",
       "      <td>1</td>\n",
       "      <td>3</td>\n",
       "      <td>2</td>\n",
       "      <td>1</td>\n",
       "      <td>1</td>\n",
       "      <td>2</td>\n",
       "      <td>...</td>\n",
       "      <td>3</td>\n",
       "      <td>2</td>\n",
       "      <td>3</td>\n",
       "      <td>1</td>\n",
       "      <td>1</td>\n",
       "      <td>1</td>\n",
       "      <td>2</td>\n",
       "      <td>2</td>\n",
       "      <td>2</td>\n",
       "      <td>1</td>\n",
       "    </tr>\n",
       "    <tr>\n",
       "      <th>3</th>\n",
       "      <td>3</td>\n",
       "      <td>2</td>\n",
       "      <td>3</td>\n",
       "      <td>2</td>\n",
       "      <td>3</td>\n",
       "      <td>3</td>\n",
       "      <td>3</td>\n",
       "      <td>3</td>\n",
       "      <td>3</td>\n",
       "      <td>3</td>\n",
       "      <td>...</td>\n",
       "      <td>2</td>\n",
       "      <td>2</td>\n",
       "      <td>3</td>\n",
       "      <td>3</td>\n",
       "      <td>3</td>\n",
       "      <td>3</td>\n",
       "      <td>2</td>\n",
       "      <td>2</td>\n",
       "      <td>2</td>\n",
       "      <td>1</td>\n",
       "    </tr>\n",
       "    <tr>\n",
       "      <th>4</th>\n",
       "      <td>2</td>\n",
       "      <td>2</td>\n",
       "      <td>1</td>\n",
       "      <td>1</td>\n",
       "      <td>1</td>\n",
       "      <td>1</td>\n",
       "      <td>0</td>\n",
       "      <td>0</td>\n",
       "      <td>0</td>\n",
       "      <td>0</td>\n",
       "      <td>...</td>\n",
       "      <td>2</td>\n",
       "      <td>1</td>\n",
       "      <td>2</td>\n",
       "      <td>3</td>\n",
       "      <td>2</td>\n",
       "      <td>2</td>\n",
       "      <td>2</td>\n",
       "      <td>1</td>\n",
       "      <td>0</td>\n",
       "      <td>1</td>\n",
       "    </tr>\n",
       "    <tr>\n",
       "      <th>...</th>\n",
       "      <td>...</td>\n",
       "      <td>...</td>\n",
       "      <td>...</td>\n",
       "      <td>...</td>\n",
       "      <td>...</td>\n",
       "      <td>...</td>\n",
       "      <td>...</td>\n",
       "      <td>...</td>\n",
       "      <td>...</td>\n",
       "      <td>...</td>\n",
       "      <td>...</td>\n",
       "      <td>...</td>\n",
       "      <td>...</td>\n",
       "      <td>...</td>\n",
       "      <td>...</td>\n",
       "      <td>...</td>\n",
       "      <td>...</td>\n",
       "      <td>...</td>\n",
       "      <td>...</td>\n",
       "      <td>...</td>\n",
       "      <td>...</td>\n",
       "    </tr>\n",
       "    <tr>\n",
       "      <th>165</th>\n",
       "      <td>0</td>\n",
       "      <td>0</td>\n",
       "      <td>0</td>\n",
       "      <td>0</td>\n",
       "      <td>0</td>\n",
       "      <td>0</td>\n",
       "      <td>0</td>\n",
       "      <td>0</td>\n",
       "      <td>0</td>\n",
       "      <td>0</td>\n",
       "      <td>...</td>\n",
       "      <td>1</td>\n",
       "      <td>0</td>\n",
       "      <td>4</td>\n",
       "      <td>1</td>\n",
       "      <td>1</td>\n",
       "      <td>4</td>\n",
       "      <td>2</td>\n",
       "      <td>2</td>\n",
       "      <td>2</td>\n",
       "      <td>0</td>\n",
       "    </tr>\n",
       "    <tr>\n",
       "      <th>166</th>\n",
       "      <td>0</td>\n",
       "      <td>0</td>\n",
       "      <td>0</td>\n",
       "      <td>0</td>\n",
       "      <td>0</td>\n",
       "      <td>0</td>\n",
       "      <td>0</td>\n",
       "      <td>0</td>\n",
       "      <td>0</td>\n",
       "      <td>0</td>\n",
       "      <td>...</td>\n",
       "      <td>4</td>\n",
       "      <td>1</td>\n",
       "      <td>2</td>\n",
       "      <td>2</td>\n",
       "      <td>2</td>\n",
       "      <td>2</td>\n",
       "      <td>3</td>\n",
       "      <td>2</td>\n",
       "      <td>2</td>\n",
       "      <td>0</td>\n",
       "    </tr>\n",
       "    <tr>\n",
       "      <th>167</th>\n",
       "      <td>1</td>\n",
       "      <td>1</td>\n",
       "      <td>0</td>\n",
       "      <td>0</td>\n",
       "      <td>0</td>\n",
       "      <td>0</td>\n",
       "      <td>0</td>\n",
       "      <td>0</td>\n",
       "      <td>0</td>\n",
       "      <td>1</td>\n",
       "      <td>...</td>\n",
       "      <td>3</td>\n",
       "      <td>0</td>\n",
       "      <td>2</td>\n",
       "      <td>0</td>\n",
       "      <td>1</td>\n",
       "      <td>1</td>\n",
       "      <td>3</td>\n",
       "      <td>0</td>\n",
       "      <td>0</td>\n",
       "      <td>0</td>\n",
       "    </tr>\n",
       "    <tr>\n",
       "      <th>168</th>\n",
       "      <td>0</td>\n",
       "      <td>0</td>\n",
       "      <td>0</td>\n",
       "      <td>0</td>\n",
       "      <td>0</td>\n",
       "      <td>0</td>\n",
       "      <td>0</td>\n",
       "      <td>0</td>\n",
       "      <td>0</td>\n",
       "      <td>0</td>\n",
       "      <td>...</td>\n",
       "      <td>3</td>\n",
       "      <td>3</td>\n",
       "      <td>2</td>\n",
       "      <td>2</td>\n",
       "      <td>3</td>\n",
       "      <td>2</td>\n",
       "      <td>4</td>\n",
       "      <td>3</td>\n",
       "      <td>1</td>\n",
       "      <td>0</td>\n",
       "    </tr>\n",
       "    <tr>\n",
       "      <th>169</th>\n",
       "      <td>0</td>\n",
       "      <td>0</td>\n",
       "      <td>0</td>\n",
       "      <td>0</td>\n",
       "      <td>0</td>\n",
       "      <td>0</td>\n",
       "      <td>0</td>\n",
       "      <td>1</td>\n",
       "      <td>0</td>\n",
       "      <td>0</td>\n",
       "      <td>...</td>\n",
       "      <td>3</td>\n",
       "      <td>4</td>\n",
       "      <td>4</td>\n",
       "      <td>0</td>\n",
       "      <td>1</td>\n",
       "      <td>3</td>\n",
       "      <td>3</td>\n",
       "      <td>3</td>\n",
       "      <td>1</td>\n",
       "      <td>0</td>\n",
       "    </tr>\n",
       "  </tbody>\n",
       "</table>\n",
       "<p>170 rows × 55 columns</p>\n",
       "</div>"
      ],
      "text/plain": [
       "     Q1  Q2  Q3  Q4  Q5  Q6  Q7  Q8  Q9  Q10  ...  Q46  Q47  Q48  Q49  Q50  \\\n",
       "0     2   2   4   1   0   0   0   0   0    0  ...    2    1    3    3    3   \n",
       "1     4   4   4   4   4   0   0   4   4    4  ...    2    2    3    4    4   \n",
       "2     2   2   2   2   1   3   2   1   1    2  ...    3    2    3    1    1   \n",
       "3     3   2   3   2   3   3   3   3   3    3  ...    2    2    3    3    3   \n",
       "4     2   2   1   1   1   1   0   0   0    0  ...    2    1    2    3    2   \n",
       "..   ..  ..  ..  ..  ..  ..  ..  ..  ..  ...  ...  ...  ...  ...  ...  ...   \n",
       "165   0   0   0   0   0   0   0   0   0    0  ...    1    0    4    1    1   \n",
       "166   0   0   0   0   0   0   0   0   0    0  ...    4    1    2    2    2   \n",
       "167   1   1   0   0   0   0   0   0   0    1  ...    3    0    2    0    1   \n",
       "168   0   0   0   0   0   0   0   0   0    0  ...    3    3    2    2    3   \n",
       "169   0   0   0   0   0   0   0   1   0    0  ...    3    4    4    0    1   \n",
       "\n",
       "     Q51  Q52  Q53  Q54  Divorce  \n",
       "0      2    3    2    1        1  \n",
       "1      4    4    2    2        1  \n",
       "2      1    2    2    2        1  \n",
       "3      3    2    2    2        1  \n",
       "4      2    2    1    0        1  \n",
       "..   ...  ...  ...  ...      ...  \n",
       "165    4    2    2    2        0  \n",
       "166    2    3    2    2        0  \n",
       "167    1    3    0    0        0  \n",
       "168    2    4    3    1        0  \n",
       "169    3    3    3    1        0  \n",
       "\n",
       "[170 rows x 55 columns]"
      ]
     },
     "execution_count": 289,
     "metadata": {},
     "output_type": "execute_result"
    }
   ],
   "source": [
    "data=pd.read_csv('divorce_data.csv',sep=';') \n",
    "data"
   ]
  },
  {
   "cell_type": "code",
   "execution_count": 290,
   "metadata": {
    "id": "1UtyryT-6dQC",
    "outputId": "d706f34e-c5e9-4057-de71-e7c8504449fe"
   },
   "outputs": [
    {
     "data": {
      "text/html": [
       "<div>\n",
       "<style scoped>\n",
       "    .dataframe tbody tr th:only-of-type {\n",
       "        vertical-align: middle;\n",
       "    }\n",
       "\n",
       "    .dataframe tbody tr th {\n",
       "        vertical-align: top;\n",
       "    }\n",
       "\n",
       "    .dataframe thead th {\n",
       "        text-align: right;\n",
       "    }\n",
       "</style>\n",
       "<table border=\"1\" class=\"dataframe\">\n",
       "  <thead>\n",
       "    <tr style=\"text-align: right;\">\n",
       "      <th></th>\n",
       "      <th>Q1</th>\n",
       "      <th>Q2</th>\n",
       "      <th>Q3</th>\n",
       "      <th>Q4</th>\n",
       "      <th>Q5</th>\n",
       "      <th>Q6</th>\n",
       "      <th>Q7</th>\n",
       "      <th>Q8</th>\n",
       "      <th>Q9</th>\n",
       "      <th>Q10</th>\n",
       "      <th>...</th>\n",
       "      <th>Q46</th>\n",
       "      <th>Q47</th>\n",
       "      <th>Q48</th>\n",
       "      <th>Q49</th>\n",
       "      <th>Q50</th>\n",
       "      <th>Q51</th>\n",
       "      <th>Q52</th>\n",
       "      <th>Q53</th>\n",
       "      <th>Q54</th>\n",
       "      <th>Divorce</th>\n",
       "    </tr>\n",
       "  </thead>\n",
       "  <tbody>\n",
       "    <tr>\n",
       "      <th>count</th>\n",
       "      <td>170.000000</td>\n",
       "      <td>170.000000</td>\n",
       "      <td>170.000000</td>\n",
       "      <td>170.000000</td>\n",
       "      <td>170.000000</td>\n",
       "      <td>170.000000</td>\n",
       "      <td>170.000000</td>\n",
       "      <td>170.000000</td>\n",
       "      <td>170.000000</td>\n",
       "      <td>170.000000</td>\n",
       "      <td>...</td>\n",
       "      <td>170.000000</td>\n",
       "      <td>170.000000</td>\n",
       "      <td>170.000000</td>\n",
       "      <td>170.000000</td>\n",
       "      <td>170.000000</td>\n",
       "      <td>170.000000</td>\n",
       "      <td>170.000000</td>\n",
       "      <td>170.000000</td>\n",
       "      <td>170.000000</td>\n",
       "      <td>170.000000</td>\n",
       "    </tr>\n",
       "    <tr>\n",
       "      <th>mean</th>\n",
       "      <td>1.776471</td>\n",
       "      <td>1.652941</td>\n",
       "      <td>1.764706</td>\n",
       "      <td>1.482353</td>\n",
       "      <td>1.541176</td>\n",
       "      <td>0.747059</td>\n",
       "      <td>0.494118</td>\n",
       "      <td>1.452941</td>\n",
       "      <td>1.458824</td>\n",
       "      <td>1.576471</td>\n",
       "      <td>...</td>\n",
       "      <td>2.552941</td>\n",
       "      <td>2.270588</td>\n",
       "      <td>2.741176</td>\n",
       "      <td>2.382353</td>\n",
       "      <td>2.429412</td>\n",
       "      <td>2.476471</td>\n",
       "      <td>2.517647</td>\n",
       "      <td>2.241176</td>\n",
       "      <td>2.011765</td>\n",
       "      <td>0.494118</td>\n",
       "    </tr>\n",
       "    <tr>\n",
       "      <th>std</th>\n",
       "      <td>1.627257</td>\n",
       "      <td>1.468654</td>\n",
       "      <td>1.415444</td>\n",
       "      <td>1.504327</td>\n",
       "      <td>1.632169</td>\n",
       "      <td>0.904046</td>\n",
       "      <td>0.898698</td>\n",
       "      <td>1.546371</td>\n",
       "      <td>1.557976</td>\n",
       "      <td>1.421529</td>\n",
       "      <td>...</td>\n",
       "      <td>1.371786</td>\n",
       "      <td>1.586841</td>\n",
       "      <td>1.137348</td>\n",
       "      <td>1.511587</td>\n",
       "      <td>1.405090</td>\n",
       "      <td>1.260238</td>\n",
       "      <td>1.476537</td>\n",
       "      <td>1.505634</td>\n",
       "      <td>1.667611</td>\n",
       "      <td>0.501442</td>\n",
       "    </tr>\n",
       "    <tr>\n",
       "      <th>min</th>\n",
       "      <td>0.000000</td>\n",
       "      <td>0.000000</td>\n",
       "      <td>0.000000</td>\n",
       "      <td>0.000000</td>\n",
       "      <td>0.000000</td>\n",
       "      <td>0.000000</td>\n",
       "      <td>0.000000</td>\n",
       "      <td>0.000000</td>\n",
       "      <td>0.000000</td>\n",
       "      <td>0.000000</td>\n",
       "      <td>...</td>\n",
       "      <td>0.000000</td>\n",
       "      <td>0.000000</td>\n",
       "      <td>0.000000</td>\n",
       "      <td>0.000000</td>\n",
       "      <td>0.000000</td>\n",
       "      <td>0.000000</td>\n",
       "      <td>0.000000</td>\n",
       "      <td>0.000000</td>\n",
       "      <td>0.000000</td>\n",
       "      <td>0.000000</td>\n",
       "    </tr>\n",
       "    <tr>\n",
       "      <th>25%</th>\n",
       "      <td>0.000000</td>\n",
       "      <td>0.000000</td>\n",
       "      <td>0.000000</td>\n",
       "      <td>0.000000</td>\n",
       "      <td>0.000000</td>\n",
       "      <td>0.000000</td>\n",
       "      <td>0.000000</td>\n",
       "      <td>0.000000</td>\n",
       "      <td>0.000000</td>\n",
       "      <td>0.000000</td>\n",
       "      <td>...</td>\n",
       "      <td>2.000000</td>\n",
       "      <td>1.000000</td>\n",
       "      <td>2.000000</td>\n",
       "      <td>1.000000</td>\n",
       "      <td>1.000000</td>\n",
       "      <td>2.000000</td>\n",
       "      <td>1.000000</td>\n",
       "      <td>1.000000</td>\n",
       "      <td>0.000000</td>\n",
       "      <td>0.000000</td>\n",
       "    </tr>\n",
       "    <tr>\n",
       "      <th>50%</th>\n",
       "      <td>2.000000</td>\n",
       "      <td>2.000000</td>\n",
       "      <td>2.000000</td>\n",
       "      <td>1.000000</td>\n",
       "      <td>1.000000</td>\n",
       "      <td>0.000000</td>\n",
       "      <td>0.000000</td>\n",
       "      <td>1.000000</td>\n",
       "      <td>1.000000</td>\n",
       "      <td>2.000000</td>\n",
       "      <td>...</td>\n",
       "      <td>3.000000</td>\n",
       "      <td>2.000000</td>\n",
       "      <td>3.000000</td>\n",
       "      <td>3.000000</td>\n",
       "      <td>2.000000</td>\n",
       "      <td>3.000000</td>\n",
       "      <td>3.000000</td>\n",
       "      <td>2.000000</td>\n",
       "      <td>2.000000</td>\n",
       "      <td>0.000000</td>\n",
       "    </tr>\n",
       "    <tr>\n",
       "      <th>75%</th>\n",
       "      <td>3.000000</td>\n",
       "      <td>3.000000</td>\n",
       "      <td>3.000000</td>\n",
       "      <td>3.000000</td>\n",
       "      <td>3.000000</td>\n",
       "      <td>1.000000</td>\n",
       "      <td>1.000000</td>\n",
       "      <td>3.000000</td>\n",
       "      <td>3.000000</td>\n",
       "      <td>3.000000</td>\n",
       "      <td>...</td>\n",
       "      <td>4.000000</td>\n",
       "      <td>4.000000</td>\n",
       "      <td>4.000000</td>\n",
       "      <td>4.000000</td>\n",
       "      <td>4.000000</td>\n",
       "      <td>4.000000</td>\n",
       "      <td>4.000000</td>\n",
       "      <td>4.000000</td>\n",
       "      <td>4.000000</td>\n",
       "      <td>1.000000</td>\n",
       "    </tr>\n",
       "    <tr>\n",
       "      <th>max</th>\n",
       "      <td>4.000000</td>\n",
       "      <td>4.000000</td>\n",
       "      <td>4.000000</td>\n",
       "      <td>4.000000</td>\n",
       "      <td>4.000000</td>\n",
       "      <td>4.000000</td>\n",
       "      <td>4.000000</td>\n",
       "      <td>4.000000</td>\n",
       "      <td>4.000000</td>\n",
       "      <td>4.000000</td>\n",
       "      <td>...</td>\n",
       "      <td>4.000000</td>\n",
       "      <td>4.000000</td>\n",
       "      <td>4.000000</td>\n",
       "      <td>4.000000</td>\n",
       "      <td>4.000000</td>\n",
       "      <td>4.000000</td>\n",
       "      <td>4.000000</td>\n",
       "      <td>4.000000</td>\n",
       "      <td>4.000000</td>\n",
       "      <td>1.000000</td>\n",
       "    </tr>\n",
       "  </tbody>\n",
       "</table>\n",
       "<p>8 rows × 55 columns</p>\n",
       "</div>"
      ],
      "text/plain": [
       "               Q1          Q2          Q3          Q4          Q5          Q6  \\\n",
       "count  170.000000  170.000000  170.000000  170.000000  170.000000  170.000000   \n",
       "mean     1.776471    1.652941    1.764706    1.482353    1.541176    0.747059   \n",
       "std      1.627257    1.468654    1.415444    1.504327    1.632169    0.904046   \n",
       "min      0.000000    0.000000    0.000000    0.000000    0.000000    0.000000   \n",
       "25%      0.000000    0.000000    0.000000    0.000000    0.000000    0.000000   \n",
       "50%      2.000000    2.000000    2.000000    1.000000    1.000000    0.000000   \n",
       "75%      3.000000    3.000000    3.000000    3.000000    3.000000    1.000000   \n",
       "max      4.000000    4.000000    4.000000    4.000000    4.000000    4.000000   \n",
       "\n",
       "               Q7          Q8          Q9         Q10  ...         Q46  \\\n",
       "count  170.000000  170.000000  170.000000  170.000000  ...  170.000000   \n",
       "mean     0.494118    1.452941    1.458824    1.576471  ...    2.552941   \n",
       "std      0.898698    1.546371    1.557976    1.421529  ...    1.371786   \n",
       "min      0.000000    0.000000    0.000000    0.000000  ...    0.000000   \n",
       "25%      0.000000    0.000000    0.000000    0.000000  ...    2.000000   \n",
       "50%      0.000000    1.000000    1.000000    2.000000  ...    3.000000   \n",
       "75%      1.000000    3.000000    3.000000    3.000000  ...    4.000000   \n",
       "max      4.000000    4.000000    4.000000    4.000000  ...    4.000000   \n",
       "\n",
       "              Q47         Q48         Q49         Q50         Q51         Q52  \\\n",
       "count  170.000000  170.000000  170.000000  170.000000  170.000000  170.000000   \n",
       "mean     2.270588    2.741176    2.382353    2.429412    2.476471    2.517647   \n",
       "std      1.586841    1.137348    1.511587    1.405090    1.260238    1.476537   \n",
       "min      0.000000    0.000000    0.000000    0.000000    0.000000    0.000000   \n",
       "25%      1.000000    2.000000    1.000000    1.000000    2.000000    1.000000   \n",
       "50%      2.000000    3.000000    3.000000    2.000000    3.000000    3.000000   \n",
       "75%      4.000000    4.000000    4.000000    4.000000    4.000000    4.000000   \n",
       "max      4.000000    4.000000    4.000000    4.000000    4.000000    4.000000   \n",
       "\n",
       "              Q53         Q54     Divorce  \n",
       "count  170.000000  170.000000  170.000000  \n",
       "mean     2.241176    2.011765    0.494118  \n",
       "std      1.505634    1.667611    0.501442  \n",
       "min      0.000000    0.000000    0.000000  \n",
       "25%      1.000000    0.000000    0.000000  \n",
       "50%      2.000000    2.000000    0.000000  \n",
       "75%      4.000000    4.000000    1.000000  \n",
       "max      4.000000    4.000000    1.000000  \n",
       "\n",
       "[8 rows x 55 columns]"
      ]
     },
     "execution_count": 290,
     "metadata": {},
     "output_type": "execute_result"
    }
   ],
   "source": [
    "data.describe()"
   ]
  },
  {
   "cell_type": "markdown",
   "metadata": {
    "id": "B6q53k2e1IX1"
   },
   "source": [
    "# **To seperate data and labels**"
   ]
  },
  {
   "cell_type": "code",
   "execution_count": 291,
   "metadata": {
    "id": "BqqnM0dFdHF_"
   },
   "outputs": [],
   "source": [
    "y = data['Divorce'].copy() # Y represents output\n",
    "X = data.drop('Divorce', axis=1).copy() # X represent data"
   ]
  },
  {
   "cell_type": "markdown",
   "metadata": {
    "id": "VWbr_auW1a0g"
   },
   "source": [
    "# **Make the graph to represent the percentage for each Question**"
   ]
  },
  {
   "cell_type": "code",
   "execution_count": 292,
   "metadata": {
    "id": "1VzgfGXEdHGB"
   },
   "outputs": [],
   "source": [
    "def without_hue(plot, feature): # plot percentage above each patch\n",
    "    total = len(feature) # get the number record of each feature\n",
    "    for p in plot.patches:\n",
    "        percentage = '{:.1f}%'.format(100 * p.get_height()/total) # compute percentage of each xtick label of patch\n",
    "        x = p.get_x() + p.get_width() / 4\n",
    "        y = p.get_y() + p.get_height()\n",
    "        ax.annotate(percentage, (x, y), size = 12) # note percentage on the figure\n",
    "    plt.show()\n",
    "\n",
    "class TextHandler(HandlerBase): # text handler for legend plotting\n",
    "    def create_artists(self, legend, tup ,xdescent, ydescent,\n",
    "                        width, height, fontsize,trans):\n",
    "        tx = Text(width/2.,height/2,tup[0], fontsize=fontsize,\n",
    "                  ha=\"center\", va=\"center\", color=tup[1], fontweight=\"bold\") # set parameters of text in legend\n",
    "        return [tx]\n",
    "\n",
    "# commenting out drawing the plots\n",
    "# i = 0 # iterating over 54 columns and plot graphics\n",
    "# for column in data.columns[:-1]: # data.columns[:-1] represents 'Q1'~ 'Q54', except last column y\n",
    "#     fig = plt.figure()\n",
    "#     ax = sns.countplot(x=column, data=X) # seaborn countplot\n",
    "    \n",
    "#     handltext = [str(elem) for elem in np.arange(5)] # [\"0\", \"1\", \"2\", \"3\", \"4\"]\n",
    "#     labels=[\"Never\",\"Seldom\",\"Averagely\",\"Frequently\",\"Always\"]\n",
    "#     t = ax.get_xticklabels() # get X-axis labels\n",
    "#     labeldic = dict(zip(handltext, labels)) # zip handled text and labels to a dictionary\n",
    "#     labels = [labeldic[h.get_text()]  for h in t]\n",
    "#     handles = [(h.get_text(),c.get_fc()) for h,c in zip(t,ax.patches)] # make Handltext(xticklabels) and patches into tuples \n",
    "\n",
    "#     ax.legend(handles, labels, handler_map={tuple : TextHandler()}) # the legend of seaborn. countplot \n",
    "    \n",
    "#     without_hue(ax, data[column]) # pass the graph and each column from the dataset\n",
    "#     # fig.savefig('ML_divorce_rate_dataset_plot'+ str(i)+'.jpg') \n",
    "#     # save figure plotted to a determined local directory\n",
    "    \n",
    "#     i += 1"
   ]
  },
  {
   "cell_type": "markdown",
   "metadata": {
    "id": "zl32cBJC6dQE"
   },
   "source": [
    "# **Split the dataset**\n",
    "Split the dataset into train (70%), test (15%) and cross validation (15%) sets"
   ]
  },
  {
   "cell_type": "code",
   "execution_count": 293,
   "metadata": {
    "id": "uNkGy5XM6dQE",
    "outputId": "4143db2d-b2d9-480a-a80d-0054d40aab6d"
   },
   "outputs": [
    {
     "name": "stdout",
     "output_type": "stream",
     "text": [
      "(119, 54) (119,)\n",
      "(25, 54) (25,)\n",
      "(26, 54) (26,)\n"
     ]
    }
   ],
   "source": [
    "X_train, X_2, y_train, y_2 = train_test_split(X, y, test_size=0.3)\n",
    "X_test, X_cv, y_test, y_cv = train_test_split(X_2, y_2, test_size=0.5)\n",
    "\n",
    "# print the dataset sizes\n",
    "print (X_train.shape, y_train.shape)\n",
    "print (X_test.shape, y_test.shape)\n",
    "print(X_cv.shape, y_cv.shape)"
   ]
  },
  {
   "cell_type": "markdown",
   "metadata": {
    "id": "V47yntlT6dQE"
   },
   "source": [
    "# **Creating the Neural Network model using Tensorflow**"
   ]
  },
  {
   "cell_type": "code",
   "execution_count": 294,
   "metadata": {
    "id": "AXk_vPwY6dQE",
    "outputId": "d80befe7-da04-402f-b331-ae3e68fa87a9"
   },
   "outputs": [
    {
     "name": "stdout",
     "output_type": "stream",
     "text": [
      "Model: \"sequential_226\"\n",
      "_________________________________________________________________\n",
      "Layer (type)                 Output Shape              Param #   \n",
      "=================================================================\n",
      "dense_552 (Dense)            (None, 64)                3520      \n",
      "_________________________________________________________________\n",
      "dense_553 (Dense)            (None, 1)                 65        \n",
      "=================================================================\n",
      "Total params: 3,585\n",
      "Trainable params: 3,585\n",
      "Non-trainable params: 0\n",
      "_________________________________________________________________\n"
     ]
    }
   ],
   "source": [
    "model = tf.keras.models.Sequential([\n",
    "    tf.keras.layers.InputLayer(input_shape=(54,)), # 54 input features\n",
    "    tf.keras.layers.Dense(64, activation='relu'), # hidden layer with 128 hidden units\n",
    "    \n",
    "#     tf.keras.layers.Dropout(0.1), # regularization. Do later\n",
    "    \n",
    "    tf.keras.layers.Dense(1) # output layer has 1 unit because this is binary classification \n",
    "])\n",
    "\n",
    "model.summary() # display a summary of the model"
   ]
  },
  {
   "cell_type": "markdown",
   "metadata": {
    "id": "mzO85rqq6dQF"
   },
   "source": [
    "# **Loss function and optimizer settings**"
   ]
  },
  {
   "cell_type": "code",
   "execution_count": 295,
   "metadata": {
    "id": "j41IvbP36dQF"
   },
   "outputs": [],
   "source": [
    "loss_fn = tf.keras.losses.BinaryCrossentropy(from_logits=True)\n",
    "\n",
    "model.compile(optimizer='adam',\n",
    "              loss=loss_fn,\n",
    "              metrics=['accuracy'])"
   ]
  },
  {
   "cell_type": "markdown",
   "metadata": {
    "id": "6UC4MCK16dQF"
   },
   "source": [
    "# **Fit the parameters to the model**"
   ]
  },
  {
   "cell_type": "code",
   "execution_count": 296,
   "metadata": {
    "id": "glhbogHP6dQF",
    "outputId": "00eb3f41-a1cc-4848-a5f2-b09ca857d81c"
   },
   "outputs": [
    {
     "name": "stdout",
     "output_type": "stream",
     "text": [
      "Epoch 1/10\n",
      "3/3 [==============================] - 0s 56ms/step - loss: 1.3380 - accuracy: 0.4526 - val_loss: 0.6415 - val_accuracy: 0.5000\n",
      "Epoch 2/10\n",
      "3/3 [==============================] - 0s 7ms/step - loss: 0.5909 - accuracy: 0.6842 - val_loss: 0.3940 - val_accuracy: 0.9583\n",
      "Epoch 3/10\n",
      "3/3 [==============================] - 0s 9ms/step - loss: 0.4450 - accuracy: 0.8632 - val_loss: 0.4032 - val_accuracy: 0.9167\n",
      "Epoch 4/10\n",
      "3/3 [==============================] - 0s 10ms/step - loss: 0.4372 - accuracy: 0.8526 - val_loss: 0.4067 - val_accuracy: 0.8750\n",
      "Epoch 5/10\n",
      "3/3 [==============================] - 0s 10ms/step - loss: 0.4207 - accuracy: 0.8842 - val_loss: 0.3904 - val_accuracy: 0.9167\n",
      "Epoch 6/10\n",
      "3/3 [==============================] - 0s 11ms/step - loss: 0.3909 - accuracy: 0.8842 - val_loss: 0.3584 - val_accuracy: 1.0000\n",
      "Epoch 7/10\n",
      "3/3 [==============================] - 0s 12ms/step - loss: 0.3534 - accuracy: 0.9158 - val_loss: 0.3163 - val_accuracy: 1.0000\n",
      "Epoch 8/10\n",
      "3/3 [==============================] - 0s 13ms/step - loss: 0.3112 - accuracy: 0.9263 - val_loss: 0.2711 - val_accuracy: 1.0000\n",
      "Epoch 9/10\n",
      "3/3 [==============================] - 0s 10ms/step - loss: 0.2680 - accuracy: 0.9474 - val_loss: 0.2295 - val_accuracy: 1.0000\n",
      "Epoch 10/10\n",
      "3/3 [==============================] - 0s 10ms/step - loss: 0.2323 - accuracy: 0.9474 - val_loss: 0.1951 - val_accuracy: 1.0000\n"
     ]
    },
    {
     "data": {
      "image/png": "[encoded data removed]",
      "text/plain": [
       "<Figure size 432x288 with 1 Axes>"
      ]
     },
     "metadata": {},
     "output_type": "display_data"
    },
    {
     "data": {
      "image/png": "[encoded data removed]",
      "text/plain": [
       "<Figure size 432x288 with 1 Axes>"
      ]
     },
     "metadata": {},
     "output_type": "display_data"
    }
   ],
   "source": [
    "loss=model.fit(X_train, y_train, epochs=10,validation_split=0.2)\n",
    "loss_train=loss.history['loss']\n",
    "accuracy_train=loss.history['accuracy']\n",
    "accuracy_val=loss.history['val_accuracy']\n",
    "plt.plot(loss_train) #plot cost\n",
    "plt.xlabel(\"Number of epoch\")\n",
    "plt.ylabel(\"Train Loss\")\n",
    "plt.title('Costs')\n",
    "plt.show() \n",
    "plt.plot(accuracy_train) #plot accuracies\n",
    "plt.plot(accuracy_val) #plot accuracies\n",
    "plt.xlabel(\"Number of epoch\")\n",
    "plt.ylabel(\"Accuracy\")\n",
    "plt.legend([\"Train Accuracy\", \"Cross Validation Accuracy\"], loc =\"lower right\")\n",
    "plt.title('Accuracy')\n",
    "plt.show()\n"
   ]
  },
  {
   "cell_type": "markdown",
   "metadata": {
    "id": "dqT_QkZd6dQG"
   },
   "source": [
    "# **Model Evaluation**"
   ]
  },
  {
   "cell_type": "code",
   "execution_count": 276,
   "metadata": {
    "id": "3MDqs5bX6dQG",
    "outputId": "afe82bb2-c041-4767-c153-cd0a38ba3f01"
   },
   "outputs": [
    {
     "name": "stdout",
     "output_type": "stream",
     "text": [
      "Evaluate on test data\n",
      "1/1 [==============================] - 0s 12ms/step - loss: 0.1130 - accuracy: 1.0000\n",
      "test loss, test acc: [0.11297691613435745, 1.0]\n",
      "Generate predictions for 3 samples\n",
      "WARNING:tensorflow:6 out of the last 6 calls to <function Model.make_predict_function.<locals>.predict_function at 0x000001CF90534940> triggered tf.function retracing. Tracing is expensive and the excessive number of tracings could be due to (1) creating @tf.function repeatedly in a loop, (2) passing tensors with different shapes, (3) passing Python objects instead of tensors. For (1), please define your @tf.function outside of the loop. For (2), @tf.function has experimental_relax_shapes=True option that relaxes argument shapes that can avoid unnecessary retracing. For (3), please refer to https://www.tensorflow.org/guide/function#controlling_retracing and https://www.tensorflow.org/api_docs/python/tf/function for  more details.\n",
      "predictions shape: (3, 1)\n"
     ]
    }
   ],
   "source": [
    "# Evaluate the model on the test data using `evaluate`\n",
    "print(\"Evaluate on test data\")\n",
    "results = model.evaluate(X_test, y_test, batch_size=64)\n",
    "print(\"test loss, test acc:\", results)\n",
    "\n",
    "# Generate predictions (probabilities -- the output of the last layer)\n",
    "# on new data using `predict`\n",
    "print(\"Generate predictions for 3 samples\")\n",
    "predictions = model.predict(X_test[:3])\n",
    "print(\"predictions shape:\", predictions.shape)"
   ]
  },
  {
   "cell_type": "markdown",
   "metadata": {
    "id": "2srKr9Je6viz"
   },
   "source": [
    "# **Study the impact of different numbers of units on each layer on predict accuracy**\n"
   ]
  },
  {
   "cell_type": "code",
   "execution_count": 277,
   "metadata": {
    "id": "cHmkSmtm6dQG",
    "outputId": "b184df30-c140-4094-f731-401a995b2f02"
   },
   "outputs": [
    {
     "name": "stdout",
     "output_type": "stream",
     "text": [
      "Epoch 1/5\n",
      "4/4 [==============================] - 0s 1ms/step - loss: 0.5810 - accuracy: 0.7059\n",
      "Epoch 2/5\n",
      "4/4 [==============================] - 0s 1ms/step - loss: 0.4880 - accuracy: 0.9160\n",
      "Epoch 3/5\n",
      "4/4 [==============================] - 0s 998us/step - loss: 0.4388 - accuracy: 0.9328\n",
      "Epoch 4/5\n",
      "4/4 [==============================] - 0s 1ms/step - loss: 0.4050 - accuracy: 0.9244\n",
      "Epoch 5/5\n",
      "4/4 [==============================] - 0s 2ms/step - loss: 0.3754 - accuracy: 0.9328\n",
      "train acc: 0.9327731132507324\n",
      "train loss: 0.3754451274871826\n",
      "Evaluate on test data\n",
      "1/1 [==============================] - 0s 72ms/step - loss: 0.4308 - accuracy: 0.9615\n",
      "cv acc: 0.9615384340286255 cv loss: 0.43077924847602844\n",
      "Epoch 1/5\n",
      "4/4 [==============================] - 0s 1ms/step - loss: 0.6514 - accuracy: 0.7227\n",
      "Epoch 2/5\n",
      "4/4 [==============================] - 0s 1ms/step - loss: 0.5124 - accuracy: 0.7983\n",
      "Epoch 3/5\n",
      "4/4 [==============================] - 0s 1ms/step - loss: 0.4410 - accuracy: 0.8655\n",
      "Epoch 4/5\n",
      "4/4 [==============================] - 0s 997us/step - loss: 0.3810 - accuracy: 0.8992\n",
      "Epoch 5/5\n",
      "4/4 [==============================] - 0s 2ms/step - loss: 0.3259 - accuracy: 0.9244\n",
      "train acc: 0.924369752407074\n",
      "train loss: 0.32592305541038513\n",
      "Evaluate on test data\n",
      "1/1 [==============================] - 0s 87ms/step - loss: 0.3392 - accuracy: 0.9615\n",
      "cv acc: 0.9615384340286255 cv loss: 0.3392096757888794\n",
      "Epoch 1/5\n",
      "4/4 [==============================] - 0s 1ms/step - loss: 0.6217 - accuracy: 0.7395\n",
      "Epoch 2/5\n",
      "4/4 [==============================] - 0s 1ms/step - loss: 0.4665 - accuracy: 0.8403\n",
      "Epoch 3/5\n",
      "4/4 [==============================] - 0s 996us/step - loss: 0.3975 - accuracy: 0.8992\n",
      "Epoch 4/5\n",
      "4/4 [==============================] - 0s 1ms/step - loss: 0.3374 - accuracy: 0.9328\n",
      "Epoch 5/5\n",
      "4/4 [==============================] - 0s 2ms/step - loss: 0.2754 - accuracy: 0.9580\n",
      "train acc: 0.9579831957817078\n",
      "train loss: 0.27539581060409546\n",
      "Evaluate on test data\n",
      "1/1 [==============================] - 0s 78ms/step - loss: 0.3153 - accuracy: 0.9615\n",
      "cv acc: 0.9615384340286255 cv loss: 0.31527167558670044\n",
      "Epoch 1/5\n",
      "4/4 [==============================] - 0s 1ms/step - loss: 1.1013 - accuracy: 0.4874\n",
      "Epoch 2/5\n",
      "4/4 [==============================] - 0s 984us/step - loss: 0.5207 - accuracy: 0.7899\n",
      "Epoch 3/5\n",
      "4/4 [==============================] - 0s 997us/step - loss: 0.3854 - accuracy: 0.9160\n",
      "Epoch 4/5\n",
      "4/4 [==============================] - 0s 997us/step - loss: 0.3363 - accuracy: 0.9496\n",
      "Epoch 5/5\n",
      "4/4 [==============================] - 0s 2ms/step - loss: 0.2904 - accuracy: 0.9664\n",
      "train acc: 0.9663865566253662\n",
      "train loss: 0.29044103622436523\n",
      "Evaluate on test data\n",
      "1/1 [==============================] - 0s 81ms/step - loss: 0.3657 - accuracy: 0.9615\n",
      "cv acc: 0.9615384340286255 cv loss: 0.3657432794570923\n",
      "Epoch 1/5\n",
      "4/4 [==============================] - 1s 1ms/step - loss: 0.5569 - accuracy: 0.7059\n",
      "Epoch 2/5\n",
      "4/4 [==============================] - 0s 1ms/step - loss: 0.4140 - accuracy: 0.8824\n",
      "Epoch 3/5\n",
      "4/4 [==============================] - 0s 1ms/step - loss: 0.3121 - accuracy: 0.9496\n",
      "Epoch 4/5\n",
      "4/4 [==============================] - 0s 1ms/step - loss: 0.2360 - accuracy: 0.9664\n",
      "Epoch 5/5\n",
      "4/4 [==============================] - 0s 2ms/step - loss: 0.1859 - accuracy: 0.9664\n",
      "train acc: 0.9663865566253662\n",
      "train loss: 0.18589144945144653\n",
      "Evaluate on test data\n",
      "1/1 [==============================] - 0s 95ms/step - loss: 0.2367 - accuracy: 0.9615\n",
      "cv acc: 0.9615384340286255 cv loss: 0.23669734597206116\n",
      "Epoch 1/5\n",
      "4/4 [==============================] - 0s 1ms/step - loss: 0.5057 - accuracy: 0.8319\n",
      "Epoch 2/5\n",
      "4/4 [==============================] - 0s 1ms/step - loss: 0.3655 - accuracy: 0.9076\n",
      "Epoch 3/5\n",
      "4/4 [==============================] - 0s 1ms/step - loss: 0.2715 - accuracy: 0.9328\n",
      "Epoch 4/5\n",
      "4/4 [==============================] - 0s 2ms/step - loss: 0.2063 - accuracy: 0.9580\n",
      "Epoch 5/5\n",
      "4/4 [==============================] - 0s 2ms/step - loss: 0.1635 - accuracy: 0.9580\n",
      "train acc: 0.9579831957817078\n",
      "train loss: 0.16352778673171997\n",
      "Evaluate on test data\n",
      "1/1 [==============================] - 0s 83ms/step - loss: 0.2211 - accuracy: 0.9615\n",
      "cv acc: 0.9615384340286255 cv loss: 0.22113874554634094\n",
      "Epoch 1/5\n",
      "4/4 [==============================] - 0s 2ms/step - loss: 0.4688 - accuracy: 0.8151\n",
      "Epoch 2/5\n",
      "4/4 [==============================] - 0s 1ms/step - loss: 0.3115 - accuracy: 0.9496\n",
      "Epoch 3/5\n",
      "4/4 [==============================] - 0s 1ms/step - loss: 0.2137 - accuracy: 0.9748\n",
      "Epoch 4/5\n",
      "4/4 [==============================] - 0s 1ms/step - loss: 0.1552 - accuracy: 0.9748\n",
      "Epoch 5/5\n",
      "4/4 [==============================] - 0s 2ms/step - loss: 0.1194 - accuracy: 0.9748\n",
      "train acc: 0.9747899174690247\n",
      "train loss: 0.11937389522790909\n",
      "Evaluate on test data\n",
      "1/1 [==============================] - 0s 82ms/step - loss: 0.1861 - accuracy: 0.9615\n",
      "cv acc: 0.9615384340286255 cv loss: 0.18606850504875183\n",
      "Epoch 1/5\n",
      "4/4 [==============================] - 0s 997us/step - loss: 0.5324 - accuracy: 0.7899\n",
      "Epoch 2/5\n",
      "4/4 [==============================] - 0s 1ms/step - loss: 0.3682 - accuracy: 0.9160\n",
      "Epoch 3/5\n",
      "4/4 [==============================] - 0s 1ms/step - loss: 0.2787 - accuracy: 0.9832\n",
      "Epoch 4/5\n",
      "4/4 [==============================] - 0s 1ms/step - loss: 0.2011 - accuracy: 0.9748\n",
      "Epoch 5/5\n",
      "4/4 [==============================] - 0s 2ms/step - loss: 0.1563 - accuracy: 0.9748\n",
      "train acc: 0.9747899174690247\n",
      "train loss: 0.1562711000442505\n",
      "Evaluate on test data\n",
      "1/1 [==============================] - 0s 82ms/step - loss: 0.2535 - accuracy: 0.9615\n",
      "cv acc: 0.9615384340286255 cv loss: 0.25353771448135376\n"
     ]
    }
   ],
   "source": [
    "# Number of units selection\n",
    "# set up the parameters of units\n",
    "Units = [16, 32, 48, 64, 80, 96, 112, 128]\n",
    "Results = np.zeros(len(Units))\n",
    "train_acc = np.zeros(len(Units))\n",
    "train_loss =  np.zeros(len(Units))\n",
    "Loss = np.zeros(len(Units))\n",
    "\n",
    "for i in range(len(Units)):\n",
    "    # create the training model\n",
    "    model = tf.keras.models.Sequential([\n",
    "        tf.keras.layers.InputLayer(input_shape=(54,)), # 54 input features\n",
    "        tf.keras.layers.Dense(Units[i], activation='relu'), # hidden layer 1 with N hidden units\n",
    "\n",
    "    #     tf.keras.layers.Dropout(0.2), # regularization. Do later\n",
    "\n",
    "        tf.keras.layers.Dense(1) # output layer has 1 unit because this is binary classification \n",
    "    ])\n",
    "\n",
    "    # set up the loss function and optimizer\n",
    "    loss_fn = tf.keras.losses.BinaryCrossentropy(from_logits=True)\n",
    "\n",
    "    model.compile(optimizer='adam',\n",
    "                  loss=loss_fn,\n",
    "                  metrics=['accuracy'])\n",
    "\n",
    "    # fit the model with the training set\n",
    "    train_result = model.fit(X_train, y_train, epochs=5)\n",
    "    train_acc[i] = train_result.history['accuracy'][-1]\n",
    "    print(\"train acc:\", train_acc[i])\n",
    "    train_loss[i] = train_result.history['loss'][-1]\n",
    "    print(\"train loss:\", train_loss[i])\n",
    "    \n",
    "    # Evaluate the model on the test data using `evaluate`\n",
    "    print(\"Evaluate on test data\")\n",
    "    Loss[i], Results[i] = model.evaluate(X_cv, y_cv, batch_size=64)\n",
    "    print(\"cv acc:\", Results[i], \"cv loss:\", Loss[i])\n",
    "    "
   ]
  },
  {
   "cell_type": "markdown",
   "metadata": {
    "id": "0HrUoTFJ9cJP"
   },
   "source": [
    "# **The accuracy corresponding to the different number of units in each layer**"
   ]
  },
  {
   "cell_type": "code",
   "execution_count": null,
   "metadata": {
    "id": "X0k5v7bv6dQH",
    "outputId": "cbc19982-e842-4b36-8dd9-784d1ab5ff52"
   },
   "outputs": [
    {
     "data": {
      "image/png": "[encoded data removed]",
      "text/plain": [
       "<Figure size 432x288 with 1 Axes>"
      ]
     },
     "metadata": {
      "tags": []
     },
     "output_type": "display_data"
    }
   ],
   "source": [
    "x_labels = ['16', '32', '48','64', '80', '96', '112', '128']\n",
    "units_plot = plt.bar(Units, Results, color='purple',width=15, tick_label=x_labels) # plot the bar chart\n",
    "Results_cp = np.round(Results, 5) # round the test result\n",
    "\n",
    "# Text on the top of each bar\n",
    "for i in range(len(Units)):\n",
    "    plt.text(x = Units[i]-8 , y = Results[i]+0.01, s = Results_cp[i], size = 10)\n",
    "\n",
    "plt.ylim(ymin=0.6) # limit the y-axis minimum to 0.6\n",
    "plt.xlabel(\"Number of Units\")\n",
    "plt.ylabel(\"Cross Set Accuracy\")\n",
    "plt.title(\"One-hidden-layer Neural Network Model\")\n",
    "plt.savefig('ML_divorce_rate_units_selection_1.jpg') "
   ]
  },
  {
   "cell_type": "markdown",
   "metadata": {
    "id": "pK5eNWytyUMA"
   },
   "source": [
    "# **Plot line graph for training and validation accuracy for different units**"
   ]
  },
  {
   "cell_type": "code",
   "execution_count": null,
   "metadata": {
    "id": "p8lf86Xkxn_J",
    "outputId": "af1c611f-e77d-4f83-d0bd-4529aea11847"
   },
   "outputs": [
    {
     "data": {
      "image/png": "[encoded data removed]",
      "text/plain": [
       "<Figure size 432x288 with 1 Axes>"
      ]
     },
     "metadata": {
      "tags": []
     },
     "output_type": "display_data"
    }
   ],
   "source": [
    "# print(\"train acc over several number of units\", train_acc)\n",
    "# print(\"cv acc over several number of units\", Results)\n",
    "\n",
    "plt.plot(Units, train_acc, label='Train Set Accuracy', color='blue', linewidth=2)\n",
    "plt.plot(Units, Results, label='Cross Validation Accuracy', color='orange', linewidth=2)\n",
    "plt.legend()\n",
    "plt.xlabel(\"Number of Units\")\n",
    "plt.ylabel(\"Accuracy\")\n",
    "plt.title(\"Train Set VS Cross Validation Set Accuracy\")\n",
    "plt.savefig('ML_divorce_rate_train_cv_acc.jpg')\n",
    "plt.show()"
   ]
  },
  {
   "cell_type": "markdown",
   "metadata": {
    "id": "x37jFyTAyjnQ"
   },
   "source": [
    "# **Plot line graph for training and validation loss for different units**"
   ]
  },
  {
   "cell_type": "code",
   "execution_count": null,
   "metadata": {
    "id": "MftVIciNxn_J",
    "outputId": "11d2bd78-8e5e-47d3-8eab-39e9401501d7"
   },
   "outputs": [
    {
     "data": {
      "image/png": "[encoded data removed]",
      "text/plain": [
       "<Figure size 432x288 with 1 Axes>"
      ]
     },
     "metadata": {
      "tags": []
     },
     "output_type": "display_data"
    }
   ],
   "source": [
    "plt.plot(Units, train_loss, label='Train Set Loss', color='blue', linewidth=2)\n",
    "plt.plot(Units, Loss, label='Cross Validation Loss', color='orange', linewidth=2)\n",
    "plt.legend()\n",
    "plt.xlabel(\"Number of Units\")\n",
    "plt.ylabel(\"Loss\")\n",
    "plt.title(\"Train Set VS Cross Validation Set Loss\")\n",
    "plt.savefig('ML_divorce_rate_train_cv_loss.jpg')\n",
    "plt.show()"
   ]
  },
  {
   "cell_type": "markdown",
   "metadata": {
    "id": "FoUdGVRa91OX"
   },
   "source": [
    "# **Two-hidden-layer with 32 Units in the First Hidden Layer Neural Network Model,Study the impact of different numbers of units on second layer on predict accuracy.**"
   ]
  },
  {
   "cell_type": "code",
   "execution_count": 278,
   "metadata": {
    "id": "PFjWlBhZ6dQH",
    "outputId": "b1355172-09bc-4b4e-c41e-a2cd522d8f86"
   },
   "outputs": [
    {
     "name": "stdout",
     "output_type": "stream",
     "text": [
      "Evaluate on test data\n",
      "1/1 [==============================] - 0s 124ms/step - loss: 2.7472 - accuracy: 0.6154\n",
      "test acc: 0.6153846383094788\n",
      "Evaluate on test data\n",
      "1/1 [==============================] - 0s 138ms/step - loss: 4.5881 - accuracy: 0.6154\n",
      "test acc: 0.6153846383094788\n",
      "Evaluate on test data\n",
      "1/1 [==============================] - 0s 341ms/step - loss: 0.8827 - accuracy: 0.4615\n",
      "test acc: 0.4615384638309479\n",
      "Evaluate on test data\n",
      "1/1 [==============================] - 0s 158ms/step - loss: 0.7033 - accuracy: 0.4615\n",
      "test acc: 0.4615384638309479\n",
      "Evaluate on test data\n",
      "1/1 [==============================] - 0s 172ms/step - loss: 0.5889 - accuracy: 0.7692\n",
      "test acc: 0.7692307829856873\n",
      "Evaluate on test data\n",
      "1/1 [==============================] - 0s 177ms/step - loss: 0.7309 - accuracy: 0.6538\n",
      "test acc: 0.6538461446762085\n"
     ]
    }
   ],
   "source": [
    "# hidden layers selection\n",
    "# 32 units in hidden layer 1\n",
    "# set up the parameters of units in hidden layer 2\n",
    "layer2_Units = [2, 4, 8, 16, 24, 32]\n",
    "layer2_Results = np.zeros(6)\n",
    "\n",
    "for i in range(len(layer2_Units)):\n",
    "    # create the training model\n",
    "    model = tf.keras.models.Sequential([\n",
    "        tf.keras.layers.InputLayer(input_shape=(54,)), # 54 input features\n",
    "        tf.keras.layers.Dense(32, activation='relu'), # 32 units in hidden layer 1\n",
    "        tf.keras.layers.Dense(layer2_Units[i], activation='relu'), # hidden layer 2 with N hidden units\n",
    "\n",
    "    #     tf.keras.layers.Dropout(0.2), # regularization. Do later\n",
    "\n",
    "        tf.keras.layers.Dense(1) # output layer has 1 unit because this is binary classification \n",
    "    ])\n",
    "\n",
    "    # set up the loss function and optimizer\n",
    "    loss_fn = tf.keras.losses.BinaryCrossentropy(from_logits=True)\n",
    "\n",
    "    model.compile(optimizer='adam',\n",
    "                  loss=loss_fn,\n",
    "                  metrics=['accuracy'])\n",
    "\n",
    "\n",
    "\n",
    "\n",
    "    # Evaluate the model on the test data using `evaluate`\n",
    "    print(\"Evaluate on test data\")\n",
    "    _, layer2_Results[i] = model.evaluate(X_cv, y_cv, batch_size=64)\n",
    "    print(\"test acc:\", layer2_Results[i])"
   ]
  },
  {
   "cell_type": "markdown",
   "metadata": {
    "id": "il8Vh3CA-Tlp"
   },
   "source": [
    "# **The accuracy corresponding to the different number of units in sencond layer(First layer 32 units)**"
   ]
  },
  {
   "cell_type": "code",
   "execution_count": 279,
   "metadata": {
    "id": "2LqlN2vx6dQH",
    "outputId": "36e05a5d-2554-4459-ac50-cdb19b905e97"
   },
   "outputs": [
    {
     "data": {
      "image/png": "[encoded data removed]",
      "text/plain": [
       "<Figure size 432x288 with 1 Axes>"
      ]
     },
     "metadata": {},
     "output_type": "display_data"
    }
   ],
   "source": [
    "x_labels2 = ['2', '4', '8', '16', '24', '32']\n",
    "units_plot2 = plt.bar(layer2_Units, layer2_Results, color='magenta',width=2, tick_label=x_labels2) # plot the bar chart\n",
    "Results_cp2 = np.round(layer2_Results, 5) # round the test result\n",
    "\n",
    "# Text on the top of each bar\n",
    "for i in range(len(layer2_Units)):\n",
    "    plt.text(x = layer2_Units[i]-1 , y = layer2_Results[i]+0.005, s = Results_cp2[i], size = 10)\n",
    "\n",
    "plt.ylim(ymin=0.4) # limit the y-axis minimum to 0.4\n",
    "plt.xlabel(\"Number of Units\")\n",
    "plt.ylabel(\"Cross validation Set Accuracy\")\n",
    "plt.title(\"Two-hidden-layer with 32 Units in the First Hidden Layer Neural Network Model\")\n",
    "plt.savefig('ML_divorce_rate_hidden_layer_selection.jpg')"
   ]
  },
  {
   "cell_type": "markdown",
   "metadata": {
    "id": "QG97_d8L-rU8"
   },
   "source": [
    "# **Two-hidden-layer with 48 Units in the First Hidden Layer Neural Network Model,Study the impact of different numbers of units on second layer on predict accuracy.**"
   ]
  },
  {
   "cell_type": "code",
   "execution_count": 280,
   "metadata": {
    "id": "Qm_W0uw46dQI",
    "outputId": "edea8f09-64c5-4ebf-d7d9-1784086c4285"
   },
   "outputs": [
    {
     "name": "stdout",
     "output_type": "stream",
     "text": [
      "Epoch 1/5\n",
      "4/4 [==============================] - 0s 1ms/step - loss: 3.3318 - accuracy: 0.4958\n",
      "Epoch 2/5\n",
      "4/4 [==============================] - 0s 1ms/step - loss: 1.5743 - accuracy: 0.4958\n",
      "Epoch 3/5\n",
      "4/4 [==============================] - 0s 1ms/step - loss: 1.0933 - accuracy: 0.4958\n",
      "Epoch 4/5\n",
      "4/4 [==============================] - 0s 1ms/step - loss: 0.8248 - accuracy: 0.4958\n",
      "Epoch 5/5\n",
      "4/4 [==============================] - 0s 1ms/step - loss: 0.6709 - accuracy: 0.4958\n",
      "Evaluate on test data\n",
      "1/1 [==============================] - 0s 80ms/step - loss: 0.6624 - accuracy: 0.6154\n",
      "test acc: 0.6153846383094788\n",
      "Epoch 1/5\n",
      "4/4 [==============================] - 0s 994us/step - loss: 0.6222 - accuracy: 0.4958\n",
      "Epoch 2/5\n",
      "4/4 [==============================] - 0s 1ms/step - loss: 0.5852 - accuracy: 0.4958\n",
      "Epoch 3/5\n",
      "4/4 [==============================] - 0s 1ms/step - loss: 0.5544 - accuracy: 0.4958\n",
      "Epoch 4/5\n",
      "4/4 [==============================] - 0s 2ms/step - loss: 0.5291 - accuracy: 0.4958\n",
      "Epoch 5/5\n",
      "4/4 [==============================] - 0s 1ms/step - loss: 0.5054 - accuracy: 0.4958\n",
      "Evaluate on test data\n",
      "1/1 [==============================] - 0s 85ms/step - loss: 0.5057 - accuracy: 0.6154\n",
      "test acc: 0.6153846383094788\n",
      "Epoch 1/5\n",
      "4/4 [==============================] - 0s 997us/step - loss: 0.8358 - accuracy: 0.4958\n",
      "Epoch 2/5\n",
      "4/4 [==============================] - 0s 1ms/step - loss: 0.6041 - accuracy: 0.6050\n",
      "Epoch 3/5\n",
      "4/4 [==============================] - 0s 1ms/step - loss: 0.5170 - accuracy: 0.9496\n",
      "Epoch 4/5\n",
      "4/4 [==============================] - 0s 1ms/step - loss: 0.4447 - accuracy: 0.9832\n",
      "Epoch 5/5\n",
      "4/4 [==============================] - 0s 2ms/step - loss: 0.3818 - accuracy: 0.9832\n",
      "Evaluate on test data\n",
      "1/1 [==============================] - 0s 267ms/step - loss: 0.4233 - accuracy: 0.9615\n",
      "test acc: 0.9615384340286255\n",
      "Epoch 1/5\n",
      "4/4 [==============================] - 0s 2ms/step - loss: 0.5166 - accuracy: 0.7479\n",
      "Epoch 2/5\n",
      "4/4 [==============================] - 0s 2ms/step - loss: 0.4500 - accuracy: 0.9244\n",
      "Epoch 3/5\n",
      "4/4 [==============================] - 0s 2ms/step - loss: 0.4011 - accuracy: 0.9664\n",
      "Epoch 4/5\n",
      "4/4 [==============================] - 0s 1ms/step - loss: 0.3582 - accuracy: 0.9832\n",
      "Epoch 5/5\n",
      "4/4 [==============================] - 0s 997us/step - loss: 0.3198 - accuracy: 0.9832\n",
      "Evaluate on test data\n",
      "1/1 [==============================] - 0s 108ms/step - loss: 0.3716 - accuracy: 0.9615\n",
      "test acc: 0.9615384340286255\n",
      "Epoch 1/5\n",
      "4/4 [==============================] - 0s 1ms/step - loss: 0.5588 - accuracy: 0.7899\n",
      "Epoch 2/5\n",
      "4/4 [==============================] - 0s 1ms/step - loss: 0.4030 - accuracy: 0.9328\n",
      "Epoch 3/5\n",
      "4/4 [==============================] - 0s 1ms/step - loss: 0.2984 - accuracy: 0.9748\n",
      "Epoch 4/5\n",
      "4/4 [==============================] - 0s 2ms/step - loss: 0.2228 - accuracy: 0.9832\n",
      "Epoch 5/5\n",
      "4/4 [==============================] - 0s 2ms/step - loss: 0.1717 - accuracy: 0.9748\n",
      "Evaluate on test data\n",
      "1/1 [==============================] - 0s 82ms/step - loss: 0.2081 - accuracy: 0.9615\n",
      "test acc: 0.9615384340286255\n",
      "Epoch 1/5\n",
      "4/4 [==============================] - 0s 2ms/step - loss: 1.2324 - accuracy: 0.4958\n",
      "Epoch 2/5\n",
      "4/4 [==============================] - 0s 2ms/step - loss: 0.4676 - accuracy: 0.8487\n",
      "Epoch 3/5\n",
      "4/4 [==============================] - 0s 2ms/step - loss: 0.3403 - accuracy: 0.9748\n",
      "Epoch 4/5\n",
      "4/4 [==============================] - 0s 1ms/step - loss: 0.3096 - accuracy: 0.9748\n",
      "Epoch 5/5\n",
      "4/4 [==============================] - 0s 2ms/step - loss: 0.2894 - accuracy: 0.9748\n",
      "Evaluate on test data\n",
      "1/1 [==============================] - 0s 106ms/step - loss: 0.3483 - accuracy: 1.0000\n",
      "test acc: 1.0\n",
      "Epoch 1/5\n",
      "4/4 [==============================] - 0s 1ms/step - loss: 0.8240 - accuracy: 0.5210\n",
      "Epoch 2/5\n",
      "4/4 [==============================] - 0s 1ms/step - loss: 0.4799 - accuracy: 0.8992\n",
      "Epoch 3/5\n",
      "4/4 [==============================] - 0s 1ms/step - loss: 0.4134 - accuracy: 0.9496\n",
      "Epoch 4/5\n",
      "4/4 [==============================] - 0s 2ms/step - loss: 0.3635 - accuracy: 0.9580\n",
      "Epoch 5/5\n",
      "4/4 [==============================] - 0s 2ms/step - loss: 0.2981 - accuracy: 0.9748\n",
      "Evaluate on test data\n",
      "1/1 [==============================] - 0s 100ms/step - loss: 0.2962 - accuracy: 0.9615\n",
      "test acc: 0.9615384340286255\n"
     ]
    }
   ],
   "source": [
    "# hidden layers selection\n",
    "# 48 units in hidden layer 1\n",
    "# set up the parameters of units in hidden layer 2\n",
    "layer2_Units_2 = [2, 4, 8, 16, 24, 32, 48]\n",
    "layer2_Results_2 = np.zeros(7)\n",
    "\n",
    "for i in range(len(layer2_Units_2)):\n",
    "    # create the training model\n",
    "    model = tf.keras.models.Sequential([\n",
    "        tf.keras.layers.InputLayer(input_shape=(54,)), # 54 input features\n",
    "        tf.keras.layers.Dense(48, activation='relu'), # 48 units in hidden layer 1\n",
    "        tf.keras.layers.Dense(layer2_Units_2[i], activation='relu'), # hidden layer 2 with N hidden units\n",
    "\n",
    "    #     tf.keras.layers.Dropout(0.2), # regularization. Do later\n",
    "\n",
    "        tf.keras.layers.Dense(1) # output layer has 1 unit because this is binary classification \n",
    "    ])\n",
    "\n",
    "    # set up the loss function and optimizer\n",
    "    loss_fn = tf.keras.losses.BinaryCrossentropy(from_logits=True)\n",
    "\n",
    "    model.compile(optimizer='adam',\n",
    "                  loss=loss_fn,\n",
    "                  metrics=['accuracy'])\n",
    "\n",
    "    # fit the model with the training set\n",
    "    model.fit(X_train, y_train, epochs=5)\n",
    "    \n",
    "    # Evaluate the model on the test data using `evaluate`\n",
    "    print(\"Evaluate on test data\")\n",
    "    _, layer2_Results_2[i] = model.evaluate(X_cv, y_cv, batch_size=64)\n",
    "    print(\"test acc:\", layer2_Results_2[i])"
   ]
  },
  {
   "cell_type": "markdown",
   "metadata": {
    "id": "dPmmJ7_i-iWN"
   },
   "source": [
    "# **The accuracy corresponding to the different number of units in sencond layer(First layer 48 units)**"
   ]
  },
  {
   "cell_type": "code",
   "execution_count": 281,
   "metadata": {
    "id": "5_UAS82g6dQI",
    "outputId": "3472742a-1cbe-4232-f933-ff9ce5589c80"
   },
   "outputs": [
    {
     "data": {
      "image/png": "[encoded data removed]",
      "text/plain": [
       "<Figure size 432x288 with 1 Axes>"
      ]
     },
     "metadata": {},
     "output_type": "display_data"
    }
   ],
   "source": [
    "x_labels3 = ['2', '4', '8', '16', '24', '32', '48']\n",
    "units_plot3 = plt.bar(layer2_Units_2, layer2_Results_2, color='blue',width=2, tick_label=x_labels3) # plot the bar chart\n",
    "Results_cp3 = np.round(layer2_Results_2, 5) # round the test result\n",
    "\n",
    "# Text on the top of each bar\n",
    "for i in range(len(layer2_Units_2)):\n",
    "    plt.text(x = layer2_Units_2[i]-1 , y = layer2_Results_2[i]+0.005, s = Results_cp3[i], size = 10)\n",
    "\n",
    "plt.ylim(ymin=0.6) # limit the y-axis minimum to 0.6\n",
    "plt.xlabel(\"Number of Units\")\n",
    "plt.ylabel(\"cross validation Set Accuracy\")\n",
    "plt.title(\"Two-hidden-layer with 48 Units in the First Hidden Layer Neural Network Model\")\n",
    "plt.savefig('ML_divorce_rate_hidden_layer_selection2.jpg')"
   ]
  },
  {
   "cell_type": "markdown",
   "metadata": {
    "id": "f24GIjG7FVj3"
   },
   "source": [
    "# **Two-hidden-layer with 64 Units in the First Hidden Layer Neural Network Model,Study the impact of different numbers of units on second layer on predict accuracy.**"
   ]
  },
  {
   "cell_type": "code",
   "execution_count": 282,
   "metadata": {
    "id": "iZcyyqa36dQI",
    "outputId": "aa3f937c-18bb-440a-8507-f14e04355a58"
   },
   "outputs": [
    {
     "name": "stdout",
     "output_type": "stream",
     "text": [
      "Epoch 1/5\n",
      "4/4 [==============================] - 1s 1ms/step - loss: 5.8415 - accuracy: 0.4958\n",
      "Epoch 2/5\n",
      "4/4 [==============================] - 0s 2ms/step - loss: 3.7640 - accuracy: 0.4958\n",
      "Epoch 3/5\n",
      "4/4 [==============================] - 0s 2ms/step - loss: 1.9489 - accuracy: 0.4958\n",
      "Epoch 4/5\n",
      "4/4 [==============================] - 0s 1ms/step - loss: 0.6920 - accuracy: 0.4958\n",
      "Epoch 5/5\n",
      "4/4 [==============================] - 0s 2ms/step - loss: 0.5547 - accuracy: 0.4958\n",
      "Evaluate on test data\n",
      "1/1 [==============================] - 0s 97ms/step - loss: 0.4961 - accuracy: 0.6154\n",
      "test acc: 0.6153846383094788\n",
      "Epoch 1/5\n",
      "4/4 [==============================] - 0s 997us/step - loss: 0.6786 - accuracy: 0.4958\n",
      "Epoch 2/5\n",
      "4/4 [==============================] - 0s 2ms/step - loss: 0.6541 - accuracy: 0.4958\n",
      "Epoch 3/5\n",
      "4/4 [==============================] - 0s 2ms/step - loss: 0.6291 - accuracy: 0.4958\n",
      "Epoch 4/5\n",
      "4/4 [==============================] - 0s 1ms/step - loss: 0.5953 - accuracy: 0.4958\n",
      "Epoch 5/5\n",
      "4/4 [==============================] - 0s 2ms/step - loss: 0.5509 - accuracy: 0.4958\n",
      "Evaluate on test data\n",
      "1/1 [==============================] - 0s 95ms/step - loss: 0.4811 - accuracy: 0.6154\n",
      "test acc: 0.6153846383094788\n",
      "Epoch 1/5\n",
      "4/4 [==============================] - 0s 1ms/step - loss: 0.4453 - accuracy: 0.8908\n",
      "Epoch 2/5\n",
      "4/4 [==============================] - 0s 2ms/step - loss: 0.3173 - accuracy: 0.9412\n",
      "Epoch 3/5\n",
      "4/4 [==============================] - 0s 1ms/step - loss: 0.2271 - accuracy: 0.9832\n",
      "Epoch 4/5\n",
      "4/4 [==============================] - 0s 2ms/step - loss: 0.1738 - accuracy: 0.9748\n",
      "Epoch 5/5\n",
      "4/4 [==============================] - 0s 2ms/step - loss: 0.1317 - accuracy: 0.9748\n",
      "Evaluate on test data\n",
      "1/1 [==============================] - 0s 106ms/step - loss: 0.2757 - accuracy: 0.9615\n",
      "test acc: 0.9615384340286255\n",
      "Epoch 1/5\n",
      "4/4 [==============================] - 0s 2ms/step - loss: 1.0023 - accuracy: 0.3613\n",
      "Epoch 2/5\n",
      "4/4 [==============================] - 0s 1ms/step - loss: 0.5576 - accuracy: 0.8067\n",
      "Epoch 3/5\n",
      "4/4 [==============================] - 0s 2ms/step - loss: 0.4538 - accuracy: 0.9160\n",
      "Epoch 4/5\n",
      "4/4 [==============================] - 0s 2ms/step - loss: 0.3942 - accuracy: 0.9580\n",
      "Epoch 5/5\n",
      "4/4 [==============================] - 0s 3ms/step - loss: 0.3426 - accuracy: 0.9832\n",
      "Evaluate on test data\n",
      "1/1 [==============================] - 0s 102ms/step - loss: 0.3792 - accuracy: 0.9615\n",
      "test acc: 0.9615384340286255\n",
      "Epoch 1/5\n",
      "4/4 [==============================] - 1s 1ms/step - loss: 0.7725 - accuracy: 0.5630\n",
      "Epoch 2/5\n",
      "4/4 [==============================] - 0s 2ms/step - loss: 0.2805 - accuracy: 0.9664\n",
      "Epoch 3/5\n",
      "4/4 [==============================] - 0s 1ms/step - loss: 0.2230 - accuracy: 0.9832\n",
      "Epoch 4/5\n",
      "4/4 [==============================] - 0s 1ms/step - loss: 0.1912 - accuracy: 0.9832\n",
      "Epoch 5/5\n",
      "4/4 [==============================] - 0s 1ms/step - loss: 0.1541 - accuracy: 0.9832\n",
      "Evaluate on test data\n",
      "1/1 [==============================] - 0s 94ms/step - loss: 0.1984 - accuracy: 0.9615\n",
      "test acc: 0.9615384340286255\n",
      "Epoch 1/5\n",
      "4/4 [==============================] - 0s 1ms/step - loss: 0.5159 - accuracy: 0.7731\n",
      "Epoch 2/5\n",
      "4/4 [==============================] - 0s 1ms/step - loss: 0.3415 - accuracy: 0.9412\n",
      "Epoch 3/5\n",
      "4/4 [==============================] - 0s 1ms/step - loss: 0.2648 - accuracy: 0.9580\n",
      "Epoch 4/5\n",
      "4/4 [==============================] - 0s 2ms/step - loss: 0.1932 - accuracy: 0.9664\n",
      "Epoch 5/5\n",
      "4/4 [==============================] - 0s 1ms/step - loss: 0.1531 - accuracy: 0.9748\n",
      "Evaluate on test data\n",
      "1/1 [==============================] - 0s 101ms/step - loss: 0.2338 - accuracy: 0.9615\n",
      "test acc: 0.9615384340286255\n"
     ]
    }
   ],
   "source": [
    "# hidden layers selection\n",
    "# 64 units in hidden layer 1\n",
    "# set up the parameters of units in hidden layer 2\n",
    "layer2_Units_3 = [2, 4, 8, 16, 32, 64]\n",
    "layer2_Results_3 = np.zeros(6)\n",
    "\n",
    "for i in range(len(layer2_Units_3)):\n",
    "    # create the training model\n",
    "    model = tf.keras.models.Sequential([\n",
    "        tf.keras.layers.InputLayer(input_shape=(54,)), # 54 input features\n",
    "        tf.keras.layers.Dense(64, activation='relu'), # 64 units in hidden layer 1\n",
    "        tf.keras.layers.Dense(layer2_Units_3[i], activation='relu'), # hidden layer 2 with N hidden units\n",
    "\n",
    "    #     tf.keras.layers.Dropout(0.2), # regularization. Do later\n",
    "\n",
    "        tf.keras.layers.Dense(1) # output layer has 1 unit because this is binary classification \n",
    "    ])\n",
    "\n",
    "    # set up the loss function and optimizer\n",
    "    loss_fn = tf.keras.losses.BinaryCrossentropy(from_logits=True)\n",
    "\n",
    "    model.compile(optimizer='adam',\n",
    "                  loss=loss_fn,\n",
    "                  metrics=['accuracy'])\n",
    "\n",
    "    # fit the model with the training set\n",
    "    model.fit(X_train, y_train, epochs=5)\n",
    "    \n",
    "    # Evaluate the model on the test data using `evaluate`\n",
    "    print(\"Evaluate on test data\")\n",
    "    _, layer2_Results_3[i] = model.evaluate(X_cv, y_cv, batch_size=64)\n",
    "    print(\"test acc:\", layer2_Results_3[i])"
   ]
  },
  {
   "cell_type": "markdown",
   "metadata": {
    "id": "BVvh2_dj-zcF"
   },
   "source": [
    "# **The accuracy corresponding to the different number of units in sencond layer(First layer 64 units)**"
   ]
  },
  {
   "cell_type": "code",
   "execution_count": 283,
   "metadata": {
    "id": "kXhw7CfI6dQJ",
    "outputId": "00cc8418-dd0a-415e-a7e9-a636c3073314",
    "scrolled": true
   },
   "outputs": [
    {
     "data": {
      "image/png": "[encoded data removed]",
      "text/plain": [
       "<Figure size 432x288 with 1 Axes>"
      ]
     },
     "metadata": {},
     "output_type": "display_data"
    }
   ],
   "source": [
    "x_labels4 = ['2', '4', '8', '16', '32', '64']\n",
    "units_plot4 = plt.bar(layer2_Units_3, layer2_Results_3, color='Green',width=2, tick_label=x_labels4) # plot the bar chart\n",
    "Results_cp4 = np.round(layer2_Results_3, 5) # round the test result\n",
    "\n",
    "# Text on the top of each bar\n",
    "for i in range(len(layer2_Units_3)):\n",
    "    plt.text(x = layer2_Units_3[i]-2 , y = layer2_Results_3[i]+0.005, s = Results_cp4[i], size = 10)\n",
    "\n",
    "plt.ylim(ymin=0.6) # limit the y-axis minimum to b0.6\n",
    "plt.xlabel(\"Number of Units\")\n",
    "plt.ylabel(\"Cross validation Set Accuracy\")\n",
    "plt.title(\"Two-hidden-layer with 64 Units in the First Hidden Layer Neural Network Model\")\n",
    "plt.savefig('ML_divorce_rate_hidden_layer_selection3.jpg')"
   ]
  },
  {
   "cell_type": "markdown",
   "metadata": {
    "id": "wBmWdnVzFwe-"
   },
   "source": [
    "# **One-hidden-layer with 64 Units Neural Network Model,Study the impact of different regularization value on predict accuracy.**"
   ]
  },
  {
   "cell_type": "code",
   "execution_count": 286,
   "metadata": {
    "id": "s0mTQGp76dQJ",
    "outputId": "e822bafa-ea75-4785-9eb3-ab2b9b2a9790"
   },
   "outputs": [
    {
     "name": "stdout",
     "output_type": "stream",
     "text": [
      "Epoch 1/5\n",
      "4/4 [==============================] - 0s 1ms/step - loss: 0.7872 - accuracy: 0.5546\n",
      "Epoch 2/5\n",
      "4/4 [==============================] - 0s 1ms/step - loss: 0.6213 - accuracy: 0.7059\n",
      "Epoch 3/5\n",
      "4/4 [==============================] - 0s 1ms/step - loss: 0.4830 - accuracy: 0.8403\n",
      "Epoch 4/5\n",
      "4/4 [==============================] - 0s 1ms/step - loss: 0.3712 - accuracy: 0.9244\n",
      "Epoch 5/5\n",
      "4/4 [==============================] - 0s 1ms/step - loss: 0.2971 - accuracy: 0.9496\n",
      "Evaluate on test data\n",
      "1/1 [==============================] - 0s 80ms/step - loss: 0.2975 - accuracy: 0.9615\n",
      "test acc: 0.9615384340286255\n",
      "Epoch 1/5\n",
      "4/4 [==============================] - 1s 1ms/step - loss: 0.7394 - accuracy: 0.6303\n",
      "Epoch 2/5\n",
      "4/4 [==============================] - 0s 2ms/step - loss: 0.6041 - accuracy: 0.7395\n",
      "Epoch 3/5\n",
      "4/4 [==============================] - 0s 2ms/step - loss: 0.4931 - accuracy: 0.8235\n",
      "Epoch 4/5\n",
      "4/4 [==============================] - 0s 2ms/step - loss: 0.3946 - accuracy: 0.9244\n",
      "Epoch 5/5\n",
      "4/4 [==============================] - 0s 1ms/step - loss: 0.3188 - accuracy: 0.9496\n",
      "Evaluate on test data\n",
      "1/1 [==============================] - 0s 100ms/step - loss: 0.3568 - accuracy: 0.9615\n",
      "test acc: 0.9615384340286255\n",
      "Epoch 1/5\n",
      "4/4 [==============================] - 0s 1ms/step - loss: 0.4903 - accuracy: 0.8151\n",
      "Epoch 2/5\n",
      "4/4 [==============================] - 0s 2ms/step - loss: 0.3561 - accuracy: 0.8824\n",
      "Epoch 3/5\n",
      "4/4 [==============================] - 0s 1ms/step - loss: 0.2957 - accuracy: 0.9328\n",
      "Epoch 4/5\n",
      "4/4 [==============================] - 0s 1ms/step - loss: 0.2416 - accuracy: 0.9580\n",
      "Epoch 5/5\n",
      "4/4 [==============================] - 0s 2ms/step - loss: 0.1770 - accuracy: 0.9748\n",
      "Evaluate on test data\n",
      "1/1 [==============================] - 0s 96ms/step - loss: 0.2659 - accuracy: 0.9615\n",
      "test acc: 0.9615384340286255\n",
      "Epoch 1/5\n",
      "4/4 [==============================] - 0s 1ms/step - loss: 0.8497 - accuracy: 0.5882\n",
      "Epoch 2/5\n",
      "4/4 [==============================] - 0s 1ms/step - loss: 0.6405 - accuracy: 0.7563\n",
      "Epoch 3/5\n",
      "4/4 [==============================] - 0s 3ms/step - loss: 0.4430 - accuracy: 0.8235\n",
      "Epoch 4/5\n",
      "4/4 [==============================] - 0s 1ms/step - loss: 0.4001 - accuracy: 0.8403\n",
      "Epoch 5/5\n",
      "4/4 [==============================] - 0s 1ms/step - loss: 0.2605 - accuracy: 0.9244\n",
      "Evaluate on test data\n",
      "1/1 [==============================] - 0s 93ms/step - loss: 0.3658 - accuracy: 0.8846\n",
      "test acc: 0.8846153616905212\n",
      "Epoch 1/5\n",
      "4/4 [==============================] - 0s 1ms/step - loss: 1.5950 - accuracy: 0.4454\n",
      "Epoch 2/5\n",
      "4/4 [==============================] - 0s 1ms/step - loss: 1.2435 - accuracy: 0.5462\n",
      "Epoch 3/5\n",
      "4/4 [==============================] - 0s 1ms/step - loss: 1.1789 - accuracy: 0.5714\n",
      "Epoch 4/5\n",
      "4/4 [==============================] - 0s 1ms/step - loss: 0.7162 - accuracy: 0.6723\n",
      "Epoch 5/5\n",
      "4/4 [==============================] - 0s 2ms/step - loss: 0.7612 - accuracy: 0.6975\n",
      "Evaluate on test data\n",
      "1/1 [==============================] - 0s 89ms/step - loss: 0.7009 - accuracy: 0.6923\n",
      "test acc: 0.692307710647583\n",
      "Epoch 1/5\n",
      "4/4 [==============================] - 0s 2ms/step - loss: 1.8443 - accuracy: 0.5882\n",
      "Epoch 2/5\n",
      "4/4 [==============================] - 0s 2ms/step - loss: 1.1747 - accuracy: 0.6387\n",
      "Epoch 3/5\n",
      "4/4 [==============================] - 0s 1ms/step - loss: 1.3064 - accuracy: 0.6807\n",
      "Epoch 4/5\n",
      "4/4 [==============================] - 0s 1ms/step - loss: 1.3262 - accuracy: 0.6471\n",
      "Epoch 5/5\n",
      "4/4 [==============================] - 0s 1ms/step - loss: 0.7881 - accuracy: 0.7143\n",
      "Evaluate on test data\n",
      "1/1 [==============================] - 0s 87ms/step - loss: 0.6865 - accuracy: 0.6538\n",
      "test acc: 0.6538461446762085\n"
     ]
    }
   ],
   "source": [
    "# hidden layers selection\n",
    "# 64 units in hidden layer 1\n",
    "# set up the parameters of units in hidden layer 2\n",
    "layer2_Results= np.zeros(6)\n",
    "RegularizationTerm = [0.001, 0.01, 0.1, 0.3, 0.7, 0.9]\n",
    "\n",
    "\n",
    "# create the training model\n",
    "for i in range(len(RegularizationTerm)):\n",
    "    model = tf.keras.models.Sequential([\n",
    "        tf.keras.layers.InputLayer(input_shape=(54,)), # 54 input features\n",
    "        tf.keras.layers.Dense(64, activation='relu'), # 64 units in hidden layer 1\n",
    "        tf.keras.layers.Dropout(RegularizationTerm[i]), # regularization. \n",
    "\n",
    "        tf.keras.layers.Dense(1) # output layer has 1 unit because this is binary classification \n",
    "    ])\n",
    "\n",
    "    # set up the loss function and optimizer\n",
    "    loss_fn = tf.keras.losses.BinaryCrossentropy(from_logits=True)\n",
    "\n",
    "    model.compile(optimizer='adam',\n",
    "                      loss=loss_fn,\n",
    "                      metrics=['accuracy'])\n",
    "\n",
    "    # fit the model with the training set\n",
    "    model.fit(X_train, y_train, epochs=5)\n",
    "\n",
    "     # Evaluate the model on the test data using `evaluate`\n",
    "    print(\"Evaluate on test data\")\n",
    "    _, layer2_Results[i]= model.evaluate(X_cv, y_cv, batch_size=64)\n",
    "    print(\"test acc:\", layer2_Results[i])"
   ]
  },
  {
   "cell_type": "markdown",
   "metadata": {
    "id": "BFYgKHOeFbH1"
   },
   "source": [
    "# **The accuracy corresponding to the different regularization value**\n"
   ]
  },
  {
   "cell_type": "code",
   "execution_count": 287,
   "metadata": {
    "id": "jjxDAauV6dQJ",
    "outputId": "fcbded94-a348-4174-d634-2f24c2bf525c"
   },
   "outputs": [
    {
     "data": {
      "text/plain": [
       "Text(0.5, 1.0, 'Two-hidden-layer with 64 Units in the First Hidden Layer Neural Network Model')"
      ]
     },
     "execution_count": 287,
     "metadata": {},
     "output_type": "execute_result"
    },
    {
     "data": {
      "image/png": "[encoded data removed]",
      "text/plain": [
       "<Figure size 432x288 with 1 Axes>"
      ]
     },
     "metadata": {},
     "output_type": "display_data"
    }
   ],
   "source": [
    "X = [1, 2, 3, 4, 5, 6]\n",
    "RegularizationTerm = [0.001, 0.01, 0.1, 0.3, 0.7, 0.9]\n",
    "units_plot5 = plt.bar(X, layer2_Results, color='Green',width=0.5, tick_label=RegularizationTerm) # plot the bar chart\n",
    "Results_cp5 = np.round(layer2_Results,5) # round the test result\n",
    "\n",
    "\n",
    "# Text on the top of each bar\n",
    "for i in range(len(RegularizationTerm)):\n",
    "    plt.text(x = X[i], y = layer2_Results[i], s = Results_cp5[i], size = 10)\n",
    "\n",
    "plt.ylim(ymin=0.6) # limit the y-axis minimum to b0.6\n",
    "plt.xlabel(\"Regularization Term\")\n",
    "plt.ylabel(\"Cross validation Set Accuracy\")\n",
    "plt.title(\"Two-hidden-layer with 64 Units in the First Hidden Layer Neural Network Model\")"
   ]
  }
 ],
 "metadata": {
  "colab": {
   "collapsed_sections": [],
   "name": "Project_0525.ipynb",
   "provenance": []
  },
  "kernelspec": {
   "display_name": "Python 3",
   "language": "python",
   "name": "python3"
  },
  "language_info": {
   "codemirror_mode": {
    "name": "ipython",
    "version": 3
   },
   "file_extension": ".py",
   "mimetype": "text/x-python",
   "name": "python",
   "nbconvert_exporter": "python",
   "pygments_lexer": "ipython3",
   "version": "3.7.6"
  }
 },
 "nbformat": 4,
 "nbformat_minor": 1
}
